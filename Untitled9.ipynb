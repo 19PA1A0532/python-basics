{
  "nbformat": 4,
  "nbformat_minor": 0,
  "metadata": {
    "colab": {
      "name": "Untitled9.ipynb",
      "provenance": [],
      "toc_visible": true,
      "authorship_tag": "ABX9TyNGJkTRvklaTPwdvb+aQ25D",
      "include_colab_link": true
    },
    "kernelspec": {
      "name": "python3",
      "display_name": "Python 3"
    }
  },
  "cells": [
    {
      "cell_type": "markdown",
      "metadata": {
        "id": "view-in-github",
        "colab_type": "text"
      },
      "source": [
        "<a href=\"https://colab.research.google.com/github/19PA1A0532/python-basics/blob/master/Untitled9.ipynb\" target=\"_parent\"><img src=\"https://colab.research.google.com/assets/colab-badge.svg\" alt=\"Open In Colab\"/></a>"
      ]
    },
    {
      "cell_type": "code",
      "metadata": {
        "id": "rTK-_4iyhrn-",
        "colab_type": "code",
        "colab": {}
      },
      "source": [
        "## Import required modules\n",
        "import os\n",
        "import pandas as pd\n",
        "import numpy as np\n",
        "import matplotlib.pyplot as plt\n",
        "import statsmodels.api as sm\n",
        "from sklearn.linear_model import LinearRegression\n",
        "from sklearn.model_selection import train_test_split\n",
        "from sklearn.metrics import mean_squared_error"
      ],
      "execution_count": 0,
      "outputs": []
    },
    {
      "cell_type": "code",
      "metadata": {
        "id": "X0MqQA2airND",
        "colab_type": "code",
        "outputId": "e2352db0-da53-4be1-e3ff-59450ac379a2",
        "colab": {
          "base_uri": "https://localhost:8080/",
          "height": 419
        }
      },
      "source": [
        "data=pd.read_csv(\"GPA Vs SAT.csv\")\n",
        "data"
      ],
      "execution_count": 0,
      "outputs": [
        {
          "output_type": "execute_result",
          "data": {
            "text/html": [
              "<div>\n",
              "<style scoped>\n",
              "    .dataframe tbody tr th:only-of-type {\n",
              "        vertical-align: middle;\n",
              "    }\n",
              "\n",
              "    .dataframe tbody tr th {\n",
              "        vertical-align: top;\n",
              "    }\n",
              "\n",
              "    .dataframe thead th {\n",
              "        text-align: right;\n",
              "    }\n",
              "</style>\n",
              "<table border=\"1\" class=\"dataframe\">\n",
              "  <thead>\n",
              "    <tr style=\"text-align: right;\">\n",
              "      <th></th>\n",
              "      <th>SAT</th>\n",
              "      <th>GPA</th>\n",
              "    </tr>\n",
              "  </thead>\n",
              "  <tbody>\n",
              "    <tr>\n",
              "      <th>0</th>\n",
              "      <td>1714</td>\n",
              "      <td>2.40</td>\n",
              "    </tr>\n",
              "    <tr>\n",
              "      <th>1</th>\n",
              "      <td>1664</td>\n",
              "      <td>2.52</td>\n",
              "    </tr>\n",
              "    <tr>\n",
              "      <th>2</th>\n",
              "      <td>1760</td>\n",
              "      <td>2.54</td>\n",
              "    </tr>\n",
              "    <tr>\n",
              "      <th>3</th>\n",
              "      <td>1685</td>\n",
              "      <td>2.74</td>\n",
              "    </tr>\n",
              "    <tr>\n",
              "      <th>4</th>\n",
              "      <td>1693</td>\n",
              "      <td>2.83</td>\n",
              "    </tr>\n",
              "    <tr>\n",
              "      <th>...</th>\n",
              "      <td>...</td>\n",
              "      <td>...</td>\n",
              "    </tr>\n",
              "    <tr>\n",
              "      <th>79</th>\n",
              "      <td>1936</td>\n",
              "      <td>3.71</td>\n",
              "    </tr>\n",
              "    <tr>\n",
              "      <th>80</th>\n",
              "      <td>1810</td>\n",
              "      <td>3.71</td>\n",
              "    </tr>\n",
              "    <tr>\n",
              "      <th>81</th>\n",
              "      <td>1987</td>\n",
              "      <td>3.73</td>\n",
              "    </tr>\n",
              "    <tr>\n",
              "      <th>82</th>\n",
              "      <td>1962</td>\n",
              "      <td>3.76</td>\n",
              "    </tr>\n",
              "    <tr>\n",
              "      <th>83</th>\n",
              "      <td>2050</td>\n",
              "      <td>3.81</td>\n",
              "    </tr>\n",
              "  </tbody>\n",
              "</table>\n",
              "<p>84 rows × 2 columns</p>\n",
              "</div>"
            ],
            "text/plain": [
              "     SAT   GPA\n",
              "0   1714  2.40\n",
              "1   1664  2.52\n",
              "2   1760  2.54\n",
              "3   1685  2.74\n",
              "4   1693  2.83\n",
              "..   ...   ...\n",
              "79  1936  3.71\n",
              "80  1810  3.71\n",
              "81  1987  3.73\n",
              "82  1962  3.76\n",
              "83  2050  3.81\n",
              "\n",
              "[84 rows x 2 columns]"
            ]
          },
          "metadata": {
            "tags": []
          },
          "execution_count": 6
        }
      ]
    },
    {
      "cell_type": "code",
      "metadata": {
        "id": "upovksq5jG5f",
        "colab_type": "code",
        "outputId": "1afbcf01-06a1-4710-b4b0-2ab6c4d6a82c",
        "colab": {
          "base_uri": "https://localhost:8080/",
          "height": 265
        }
      },
      "source": [
        "x=data[\"SAT\"]\n",
        "y=data['GPA']\n",
        "plt.boxplot(x)\n",
        "plt.show()"
      ],
      "execution_count": 0,
      "outputs": [
        {
          "output_type": "display_data",
          "data": {
            "image/png": "[encoded data removed]",
            "text/plain": [
              "<Figure size 432x288 with 1 Axes>"
            ]
          },
          "metadata": {
            "tags": []
          }
        }
      ]
    },
    {
      "cell_type": "code",
      "metadata": {
        "id": "Y45MUW2plhF5",
        "colab_type": "code",
        "outputId": "12c73c9d-e691-4c3b-9138-3d3ebc2ed6b9",
        "colab": {
          "base_uri": "https://localhost:8080/",
          "height": 282
        }
      },
      "source": [
        "plt.plot(data.SAT,data.GPA,'o',color='brown')"
      ],
      "execution_count": 0,
      "outputs": [
        {
          "output_type": "execute_result",
          "data": {
            "text/plain": [
              "[<matplotlib.lines.Line2D at 0x7f177031c668>]"
            ]
          },
          "metadata": {
            "tags": []
          },
          "execution_count": 24
        },
        {
          "output_type": "display_data",
          "data": {
            "image/png": "[encoded data removed]",
            "text/plain": [
              "<Figure size 432x288 with 1 Axes>"
            ]
          },
          "metadata": {
            "tags": []
          }
        }
      ]
    },
    {
      "cell_type": "code",
      "metadata": {
        "id": "T3hhD0_wlQsf",
        "colab_type": "code",
        "outputId": "2895c293-71fd-4b91-a80c-909e4ffa0486",
        "colab": {
          "base_uri": "https://localhost:8080/",
          "height": 111
        }
      },
      "source": [
        "data.corr()"
      ],
      "execution_count": 0,
      "outputs": [
        {
          "output_type": "execute_result",
          "data": {
            "text/html": [
              "<div>\n",
              "<style scoped>\n",
              "    .dataframe tbody tr th:only-of-type {\n",
              "        vertical-align: middle;\n",
              "    }\n",
              "\n",
              "    .dataframe tbody tr th {\n",
              "        vertical-align: top;\n",
              "    }\n",
              "\n",
              "    .dataframe thead th {\n",
              "        text-align: right;\n",
              "    }\n",
              "</style>\n",
              "<table border=\"1\" class=\"dataframe\">\n",
              "  <thead>\n",
              "    <tr style=\"text-align: right;\">\n",
              "      <th></th>\n",
              "      <th>SAT</th>\n",
              "      <th>GPA</th>\n",
              "    </tr>\n",
              "  </thead>\n",
              "  <tbody>\n",
              "    <tr>\n",
              "      <th>SAT</th>\n",
              "      <td>1.000000</td>\n",
              "      <td>0.637184</td>\n",
              "    </tr>\n",
              "    <tr>\n",
              "      <th>GPA</th>\n",
              "      <td>0.637184</td>\n",
              "      <td>1.000000</td>\n",
              "    </tr>\n",
              "  </tbody>\n",
              "</table>\n",
              "</div>"
            ],
            "text/plain": [
              "          SAT       GPA\n",
              "SAT  1.000000  0.637184\n",
              "GPA  0.637184  1.000000"
            ]
          },
          "metadata": {
            "tags": []
          },
          "execution_count": 29
        }
      ]
    },
    {
      "cell_type": "code",
      "metadata": {
        "id": "Qyl9NJAiooHu",
        "colab_type": "code",
        "colab": {}
      },
      "source": [
        "X_train,X_test,y_train,y_test=train_test_split(np.asarray(data['SAT']),np.asarray(data['GPA']),test_size=0.2,random_state=123)\n"
      ],
      "execution_count": 0,
      "outputs": []
    },
    {
      "cell_type": "code",
      "metadata": {
        "id": "xrn1Vyttoq9L",
        "colab_type": "code",
        "outputId": "b6b46f2a-f0ac-4aa6-f885-12c8adf57260",
        "colab": {
          "base_uri": "https://localhost:8080/",
          "height": 247
        }
      },
      "source": [
        "print(data.shape)\n",
        "print(\"\\n\")\n",
        "print(X_train.shape)\n",
        "print(\"\\n\")\n",
        "print(X_test.shape)\n",
        "print(\"\\n\")\n",
        "print(y_train.shape)\n",
        "print(\"\\n\")\n",
        "print(y_test.shape)\n"
      ],
      "execution_count": 127,
      "outputs": [
        {
          "output_type": "stream",
          "text": [
            "(84, 2)\n",
            "\n",
            "\n",
            "(67, 1)\n",
            "\n",
            "\n",
            "(17, 1)\n",
            "\n",
            "\n",
            "(67, 1)\n",
            "\n",
            "\n",
            "(17,)\n"
          ],
          "name": "stdout"
        }
      ]
    },
    {
      "cell_type": "code",
      "metadata": {
        "id": "rDq_QtqrsyTQ",
        "colab_type": "code",
        "colab": {}
      },
      "source": [
        "X_train=X_train.reshape(-1,1)\n",
        "y_train=y_train.reshape(-1,1)\n",
        "\n",
        "X_test=X_test.reshape(-1,1)\n",
        "y_test=y_test.reshape(-1,1)"
      ],
      "execution_count": 0,
      "outputs": []
    },
    {
      "cell_type": "code",
      "metadata": {
        "id": "aoq0MxAetTR7",
        "colab_type": "code",
        "outputId": "26b095c8-01d0-40f9-a167-a4ac94cff727",
        "colab": {
          "base_uri": "https://localhost:8080/",
          "height": 247
        }
      },
      "source": [
        "print(data.shape)\n",
        "print(\"\\n\")\n",
        "print(X_train.shape)\n",
        "print(\"\\n\")\n",
        "print(X_test.shape)\n",
        "print(\"\\n\")\n",
        "print(y_train.shape)\n",
        "print(\"\\n\")\n",
        "print(y_test.shape)\n"
      ],
      "execution_count": 129,
      "outputs": [
        {
          "output_type": "stream",
          "text": [
            "(84, 2)\n",
            "\n",
            "\n",
            "(67, 1)\n",
            "\n",
            "\n",
            "(17, 1)\n",
            "\n",
            "\n",
            "(67, 1)\n",
            "\n",
            "\n",
            "(17, 1)\n"
          ],
          "name": "stdout"
        }
      ]
    },
    {
      "cell_type": "code",
      "metadata": {
        "id": "WHDng1cHvGQs",
        "colab_type": "code",
        "outputId": "dd04bfb3-6823-4725-db43-68f58efc4252",
        "colab": {
          "base_uri": "https://localhost:8080/",
          "height": 34
        }
      },
      "source": [
        "lin_model=LinearRegression(normalize=True)\n",
        "lin_model.fit(X_train,y_train)"
      ],
      "execution_count": 130,
      "outputs": [
        {
          "output_type": "execute_result",
          "data": {
            "text/plain": [
              "LinearRegression(copy_X=True, fit_intercept=True, n_jobs=None, normalize=True)"
            ]
          },
          "metadata": {
            "tags": []
          },
          "execution_count": 130
        }
      ]
    },
    {
      "cell_type": "code",
      "metadata": {
        "id": "1Cg89ntbvZ89",
        "colab_type": "code",
        "outputId": "03e70347-edea-410b-9452-1155bceb8ca3",
        "colab": {
          "base_uri": "https://localhost:8080/",
          "height": 34
        }
      },
      "source": [
        "lin_model.coef_"
      ],
      "execution_count": 0,
      "outputs": [
        {
          "output_type": "execute_result",
          "data": {
            "text/plain": [
              "array([[0.00175421]])"
            ]
          },
          "metadata": {
            "tags": []
          },
          "execution_count": 77
        }
      ]
    },
    {
      "cell_type": "code",
      "metadata": {
        "id": "pciub-xrw46r",
        "colab_type": "code",
        "outputId": "9c30e160-c21a-47a5-a66d-56b0bce0171d",
        "colab": {
          "base_uri": "https://localhost:8080/",
          "height": 34
        }
      },
      "source": [
        "lin_model.intercept_"
      ],
      "execution_count": 0,
      "outputs": [
        {
          "output_type": "execute_result",
          "data": {
            "text/plain": [
              "array([0.08665701])"
            ]
          },
          "metadata": {
            "tags": []
          },
          "execution_count": 58
        }
      ]
    },
    {
      "cell_type": "code",
      "metadata": {
        "id": "S4ordz13x5-9",
        "colab_type": "code",
        "outputId": "628ad2eb-9d1b-4d79-be02-8299ff43327c",
        "colab": {
          "base_uri": "https://localhost:8080/",
          "height": 557
        }
      },
      "source": [
        "pavi=lin_model.predict(X_test)\n",
        "y_test=y_test.reshape(-1,)\n",
        "pavi=pavi.reshape(-1,)\n",
        "df=pd.DataFrame({\"actual\":y_test,\"pridected\":pavi})\n",
        "df\n"
      ],
      "execution_count": 131,
      "outputs": [
        {
          "output_type": "execute_result",
          "data": {
            "text/html": [
              "<div>\n",
              "<style scoped>\n",
              "    .dataframe tbody tr th:only-of-type {\n",
              "        vertical-align: middle;\n",
              "    }\n",
              "\n",
              "    .dataframe tbody tr th {\n",
              "        vertical-align: top;\n",
              "    }\n",
              "\n",
              "    .dataframe thead th {\n",
              "        text-align: right;\n",
              "    }\n",
              "</style>\n",
              "<table border=\"1\" class=\"dataframe\">\n",
              "  <thead>\n",
              "    <tr style=\"text-align: right;\">\n",
              "      <th></th>\n",
              "      <th>actual</th>\n",
              "      <th>pridected</th>\n",
              "    </tr>\n",
              "  </thead>\n",
              "  <tbody>\n",
              "    <tr>\n",
              "      <th>0</th>\n",
              "      <td>3.59</td>\n",
              "      <td>3.477541</td>\n",
              "    </tr>\n",
              "    <tr>\n",
              "      <th>1</th>\n",
              "      <td>3.21</td>\n",
              "      <td>3.046006</td>\n",
              "    </tr>\n",
              "    <tr>\n",
              "      <th>2</th>\n",
              "      <td>2.83</td>\n",
              "      <td>3.056531</td>\n",
              "    </tr>\n",
              "    <tr>\n",
              "      <th>3</th>\n",
              "      <td>3.71</td>\n",
              "      <td>3.482803</td>\n",
              "    </tr>\n",
              "    <tr>\n",
              "      <th>4</th>\n",
              "      <td>3.50</td>\n",
              "      <td>3.407372</td>\n",
              "    </tr>\n",
              "    <tr>\n",
              "      <th>5</th>\n",
              "      <td>3.59</td>\n",
              "      <td>3.205638</td>\n",
              "    </tr>\n",
              "    <tr>\n",
              "      <th>6</th>\n",
              "      <td>3.64</td>\n",
              "      <td>3.589810</td>\n",
              "    </tr>\n",
              "    <tr>\n",
              "      <th>7</th>\n",
              "      <td>3.34</td>\n",
              "      <td>3.514379</td>\n",
              "    </tr>\n",
              "    <tr>\n",
              "      <th>8</th>\n",
              "      <td>3.28</td>\n",
              "      <td>3.479295</td>\n",
              "    </tr>\n",
              "    <tr>\n",
              "      <th>9</th>\n",
              "      <td>3.71</td>\n",
              "      <td>3.319662</td>\n",
              "    </tr>\n",
              "    <tr>\n",
              "      <th>10</th>\n",
              "      <td>3.01</td>\n",
              "      <td>3.230197</td>\n",
              "    </tr>\n",
              "    <tr>\n",
              "      <th>11</th>\n",
              "      <td>3.40</td>\n",
              "      <td>3.463507</td>\n",
              "    </tr>\n",
              "    <tr>\n",
              "      <th>12</th>\n",
              "      <td>3.01</td>\n",
              "      <td>3.331941</td>\n",
              "    </tr>\n",
              "    <tr>\n",
              "      <th>13</th>\n",
              "      <td>3.42</td>\n",
              "      <td>3.340712</td>\n",
              "    </tr>\n",
              "    <tr>\n",
              "      <th>14</th>\n",
              "      <td>3.47</td>\n",
              "      <td>3.121437</td>\n",
              "    </tr>\n",
              "    <tr>\n",
              "      <th>15</th>\n",
              "      <td>3.52</td>\n",
              "      <td>3.300366</td>\n",
              "    </tr>\n",
              "    <tr>\n",
              "      <th>16</th>\n",
              "      <td>3.24</td>\n",
              "      <td>3.549463</td>\n",
              "    </tr>\n",
              "  </tbody>\n",
              "</table>\n",
              "</div>"
            ],
            "text/plain": [
              "    actual  pridected\n",
              "0     3.59   3.477541\n",
              "1     3.21   3.046006\n",
              "2     2.83   3.056531\n",
              "3     3.71   3.482803\n",
              "4     3.50   3.407372\n",
              "5     3.59   3.205638\n",
              "6     3.64   3.589810\n",
              "7     3.34   3.514379\n",
              "8     3.28   3.479295\n",
              "9     3.71   3.319662\n",
              "10    3.01   3.230197\n",
              "11    3.40   3.463507\n",
              "12    3.01   3.331941\n",
              "13    3.42   3.340712\n",
              "14    3.47   3.121437\n",
              "15    3.52   3.300366\n",
              "16    3.24   3.549463"
            ]
          },
          "metadata": {
            "tags": []
          },
          "execution_count": 131
        }
      ]
    },
    {
      "cell_type": "code",
      "metadata": {
        "id": "BtBcVfNqyynt",
        "colab_type": "code",
        "outputId": "b0732f0a-40a4-485a-eb53-b2b21d75ada3",
        "colab": {
          "base_uri": "https://localhost:8080/",
          "height": 34
        }
      },
      "source": [
        "mean_squared_error(df['actual'],df['pridected'])\n"
      ],
      "execution_count": 132,
      "outputs": [
        {
          "output_type": "execute_result",
          "data": {
            "text/plain": [
              "0.055985577920230685"
            ]
          },
          "metadata": {
            "tags": []
          },
          "execution_count": 132
        }
      ]
    },
    {
      "cell_type": "code",
      "metadata": {
        "id": "_UmzZINW1MX5",
        "colab_type": "code",
        "outputId": "93737059-5419-433b-bbbf-5f29bf833397",
        "colab": {
          "base_uri": "https://localhost:8080/",
          "height": 34
        }
      },
      "source": [
        "((df['actual']-df['pridected'])**2).mean()"
      ],
      "execution_count": 106,
      "outputs": [
        {
          "output_type": "execute_result",
          "data": {
            "text/plain": [
              "0.05598557792023068"
            ]
          },
          "metadata": {
            "tags": []
          },
          "execution_count": 106
        }
      ]
    },
    {
      "cell_type": "code",
      "metadata": {
        "id": "uhgpwKSh3AIu",
        "colab_type": "code",
        "colab": {}
      },
      "source": [
        "X_std=(X_train-X_train.mean())/X_train.std()\n",
        "X_test_std=(X_test-X_train.mean())/X_train.std()"
      ],
      "execution_count": 0,
      "outputs": []
    },
    {
      "cell_type": "code",
      "metadata": {
        "id": "rUsSKrAQ5SPe",
        "colab_type": "code",
        "outputId": "58a52130-1256-4b78-ab33-0071fbf07c20",
        "colab": {
          "base_uri": "https://localhost:8080/",
          "height": 1000
        }
      },
      "source": [
        "X_std=sm.add_constant(X_std)\n",
        "X_std\n"
      ],
      "execution_count": 138,
      "outputs": [
        {
          "output_type": "execute_result",
          "data": {
            "text/plain": [
              "array([[ 1.        , -0.52582694],\n",
              "       [ 1.        , -0.37490686],\n",
              "       [ 1.        ,  1.13429388],\n",
              "       [ 1.        , -0.4503669 ],\n",
              "       [ 1.        ,  0.84188623],\n",
              "       [ 1.        ,  1.68137915],\n",
              "       [ 1.        , -0.57298946],\n",
              "       [ 1.        , -1.6765925 ],\n",
              "       [ 1.        ,  1.69081165],\n",
              "       [ 1.        ,  1.87946174],\n",
              "       [ 1.        ,  1.39840401],\n",
              "       [ 1.        ,  0.48345106],\n",
              "       [ 1.        , -0.76163955],\n",
              "       [ 1.        , -0.6484495 ],\n",
              "       [ 1.        , -1.31815733],\n",
              "       [ 1.        , -0.81823458],\n",
              "       [ 1.        , -0.51639443],\n",
              "       [ 1.        , -0.73334204],\n",
              "       [ 1.        ,  1.25691644],\n",
              "       [ 1.        , -1.95956764],\n",
              "       [ 1.        ,  0.28536846],\n",
              "       [ 1.        ,  1.63421662],\n",
              "       [ 1.        ,  0.00239332],\n",
              "       [ 1.        , -1.22383228],\n",
              "       [ 1.        , -1.68602501],\n",
              "       [ 1.        , -1.00688467],\n",
              "       [ 1.        ,  0.46458605],\n",
              "       [ 1.        , -0.62958449],\n",
              "       [ 1.        , -1.20496727],\n",
              "       [ 1.        , -1.61999747],\n",
              "       [ 1.        ,  1.1720239 ],\n",
              "       [ 1.        , -1.4785099 ],\n",
              "       [ 1.        ,  0.21934093],\n",
              "       [ 1.        , -1.00688467],\n",
              "       [ 1.        ,  1.37010649],\n",
              "       [ 1.        ,  0.3608285 ],\n",
              "       [ 1.        , -0.19568928],\n",
              "       [ 1.        , -0.68617952],\n",
              "       [ 1.        ,  0.35139599],\n",
              "       [ 1.        , -1.12950723],\n",
              "       [ 1.        ,  0.12501588],\n",
              "       [ 1.        , -0.61071948],\n",
              "       [ 1.        ,  0.61550612],\n",
              "       [ 1.        ,  1.68137915],\n",
              "       [ 1.        ,  1.15315889],\n",
              "       [ 1.        ,  0.06842085],\n",
              "       [ 1.        ,  0.07785336],\n",
              "       [ 1.        , -0.73334204],\n",
              "       [ 1.        ,  0.14388089],\n",
              "       [ 1.        , -0.31831184],\n",
              "       [ 1.        , -0.29944683],\n",
              "       [ 1.        ,  1.96435429],\n",
              "       [ 1.        , -0.10136423],\n",
              "       [ 1.        , -0.77107206],\n",
              "       [ 1.        ,  0.87018375],\n",
              "       [ 1.        ,  0.42685603],\n",
              "       [ 1.        ,  1.29464646],\n",
              "       [ 1.        ,  0.18161091],\n",
              "       [ 1.        , -0.31831184],\n",
              "       [ 1.        , -0.14852675],\n",
              "       [ 1.        , -0.16739176],\n",
              "       [ 1.        , -0.62958449],\n",
              "       [ 1.        ,  0.87018375],\n",
              "       [ 1.        ,  1.07769885],\n",
              "       [ 1.        ,  1.04940134],\n",
              "       [ 1.        , -1.58226746],\n",
              "       [ 1.        ,  0.07785336]])"
            ]
          },
          "metadata": {
            "tags": []
          },
          "execution_count": 138
        }
      ]
    },
    {
      "cell_type": "code",
      "metadata": {
        "id": "cVL6pvt97O95",
        "colab_type": "code",
        "colab": {
          "base_uri": "https://localhost:8080/",
          "height": 387
        },
        "outputId": "81645c7e-75f9-4120-bc5c-b8c9b3d9580f"
      },
      "source": [
        "model_sm=sm.OLS(y_train,X_std).fit()\n",
        "model_sm.summary()"
      ],
      "execution_count": 139,
      "outputs": [
        {
          "output_type": "execute_result",
          "data": {
            "text/html": [
              "<table class=\"simpletable\">\n",
              "<caption>OLS Regression Results</caption>\n",
              "<tr>\n",
              "  <th>Dep. Variable:</th>            <td>y</td>        <th>  R-squared:         </th> <td>   0.462</td>\n",
              "</tr>\n",
              "<tr>\n",
              "  <th>Model:</th>                   <td>OLS</td>       <th>  Adj. R-squared:    </th> <td>   0.454</td>\n",
              "</tr>\n",
              "<tr>\n",
              "  <th>Method:</th>             <td>Least Squares</td>  <th>  F-statistic:       </th> <td>   55.83</td>\n",
              "</tr>\n",
              "<tr>\n",
              "  <th>Date:</th>             <td>Mon, 24 Feb 2020</td> <th>  Prob (F-statistic):</th> <td>2.53e-10</td>\n",
              "</tr>\n",
              "<tr>\n",
              "  <th>Time:</th>                 <td>11:36:40</td>     <th>  Log-Likelihood:    </th> <td>  12.540</td>\n",
              "</tr>\n",
              "<tr>\n",
              "  <th>No. Observations:</th>      <td>    67</td>      <th>  AIC:               </th> <td>  -21.08</td>\n",
              "</tr>\n",
              "<tr>\n",
              "  <th>Df Residuals:</th>          <td>    65</td>      <th>  BIC:               </th> <td>  -16.67</td>\n",
              "</tr>\n",
              "<tr>\n",
              "  <th>Df Model:</th>              <td>     1</td>      <th>                     </th>     <td> </td>   \n",
              "</tr>\n",
              "<tr>\n",
              "  <th>Covariance Type:</th>      <td>nonrobust</td>    <th>                     </th>     <td> </td>   \n",
              "</tr>\n",
              "</table>\n",
              "<table class=\"simpletable\">\n",
              "<tr>\n",
              "    <td></td>       <th>coef</th>     <th>std err</th>      <th>t</th>      <th>P>|t|</th>  <th>[0.025</th>    <th>0.975]</th>  \n",
              "</tr>\n",
              "<tr>\n",
              "  <th>const</th> <td>    3.3175</td> <td>    0.025</td> <td>  133.285</td> <td> 0.000</td> <td>    3.268</td> <td>    3.367</td>\n",
              "</tr>\n",
              "<tr>\n",
              "  <th>x1</th>    <td>    0.1860</td> <td>    0.025</td> <td>    7.472</td> <td> 0.000</td> <td>    0.136</td> <td>    0.236</td>\n",
              "</tr>\n",
              "</table>\n",
              "<table class=\"simpletable\">\n",
              "<tr>\n",
              "  <th>Omnibus:</th>       <td>17.145</td> <th>  Durbin-Watson:     </th> <td>   1.911</td>\n",
              "</tr>\n",
              "<tr>\n",
              "  <th>Prob(Omnibus):</th> <td> 0.000</td> <th>  Jarque-Bera (JB):  </th> <td>  27.026</td>\n",
              "</tr>\n",
              "<tr>\n",
              "  <th>Skew:</th>          <td>-0.927</td> <th>  Prob(JB):          </th> <td>1.35e-06</td>\n",
              "</tr>\n",
              "<tr>\n",
              "  <th>Kurtosis:</th>      <td> 5.499</td> <th>  Cond. No.          </th> <td>    1.00</td>\n",
              "</tr>\n",
              "</table><br/><br/>Warnings:<br/>[1] Standard Errors assume that the covariance matrix of the errors is correctly specified."
            ],
            "text/plain": [
              "<class 'statsmodels.iolib.summary.Summary'>\n",
              "\"\"\"\n",
              "                            OLS Regression Results                            \n",
              "==============================================================================\n",
              "Dep. Variable:                      y   R-squared:                       0.462\n",
              "Model:                            OLS   Adj. R-squared:                  0.454\n",
              "Method:                 Least Squares   F-statistic:                     55.83\n",
              "Date:                Mon, 24 Feb 2020   Prob (F-statistic):           2.53e-10\n",
              "Time:                        11:36:40   Log-Likelihood:                 12.540\n",
              "No. Observations:                  67   AIC:                            -21.08\n",
              "Df Residuals:                      65   BIC:                            -16.67\n",
              "Df Model:                           1                                         \n",
              "Covariance Type:            nonrobust                                         \n",
              "==============================================================================\n",
              "                 coef    std err          t      P>|t|      [0.025      0.975]\n",
              "------------------------------------------------------------------------------\n",
              "const          3.3175      0.025    133.285      0.000       3.268       3.367\n",
              "x1             0.1860      0.025      7.472      0.000       0.136       0.236\n",
              "==============================================================================\n",
              "Omnibus:                       17.145   Durbin-Watson:                   1.911\n",
              "Prob(Omnibus):                  0.000   Jarque-Bera (JB):               27.026\n",
              "Skew:                          -0.927   Prob(JB):                     1.35e-06\n",
              "Kurtosis:                       5.499   Cond. No.                         1.00\n",
              "==============================================================================\n",
              "\n",
              "Warnings:\n",
              "[1] Standard Errors assume that the covariance matrix of the errors is correctly specified.\n",
              "\"\"\""
            ]
          },
          "metadata": {
            "tags": []
          },
          "execution_count": 139
        }
      ]
    },
    {
      "cell_type": "code",
      "metadata": {
        "id": "v2u1usN85x0H",
        "colab_type": "code",
        "colab": {}
      },
      "source": [
        ""
      ],
      "execution_count": 0,
      "outputs": []
    }
  ]
}